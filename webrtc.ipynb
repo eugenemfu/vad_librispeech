{
 "cells": [
  {
   "cell_type": "code",
   "execution_count": 9,
   "metadata": {},
   "outputs": [],
   "source": [
    "import webrtcvad\n",
    "import torchaudio\n",
    "import torch\n",
    "import numpy as np\n",
    "import matplotlib.pyplot as plt\n",
    "from pathlib import Path\n",
    "from tqdm import tqdm\n",
    "import json\n",
    "\n",
    "from utils import metrics\n",
    "from config import PathsConfig"
   ]
  },
  {
   "cell_type": "code",
   "execution_count": 10,
   "metadata": {},
   "outputs": [],
   "source": [
    "audios_root = '/home/eugene/Datasets/LibriSpeech_augmented/audios/'\n",
    "labels_root = '/home/eugene/Datasets/LibriSpeech_augmented/features_labels/'\n",
    "val_meta = 'meta/val.json'"
   ]
  },
  {
   "cell_type": "code",
   "execution_count": 11,
   "metadata": {},
   "outputs": [],
   "source": [
    "class WebRTC:\n",
    "    def __init__(self, threshold=4):\n",
    "        self.vad = webrtcvad.Vad(threshold).is_speech\n",
    "        \n",
    "    def __call__(self, path):\n",
    "        samples, sample_rate = torchaudio.load(path)\n",
    "        assert sample_rate == 16000\n",
    "        samples = samples.squeeze(0).numpy()\n",
    "        if len(samples) % 160 != 0:\n",
    "            samples = np.concatenate([samples, np.zeros(160 - (len(samples) % 160))])\n",
    "        samples = (samples * 2 ** 16).astype('int16')\n",
    "        outputs = np.zeros(len(samples) // 160, dtype=bool)\n",
    "        for j in range(len(samples) // 160):\n",
    "            start = j * 160\n",
    "            end = (j + 1) * 160\n",
    "            outputs[j] = self.vad(samples[start:end].tobytes(), sample_rate)\n",
    "        return outputs"
   ]
  },
  {
   "cell_type": "code",
   "execution_count": 13,
   "metadata": {},
   "outputs": [
    {
     "name": "stdout",
     "output_type": "stream",
     "text": [
      "Threshold = 0,  FAR = 0.7332,  FRR = 0.0094\n",
      "Threshold = 1,  FAR = 0.6972,  FRR = 0.0118\n",
      "Threshold = 2,  FAR = 0.5718,  FRR = 0.0238\n",
      "Threshold = 3,  FAR = 0.0619,  FRR = 0.6264\n"
     ]
    }
   ],
   "source": [
    "meta = json.load(open(val_meta, 'r'))\n",
    "\n",
    "for thr in range(4):\n",
    "    model = WebRTC(thr)\n",
    "    all_labels = []\n",
    "    all_outputs = []\n",
    "    for i in range(len(meta)):\n",
    "        label_path = meta[i]['label_path'].replace(PathsConfig.features_labels, labels_root)\n",
    "        labels = torch.load(label_path).squeeze(0).numpy()\n",
    "        audio_path = meta[i]['audio_path'].replace(PathsConfig.augmented, audios_root)\n",
    "        outputs = model(audio_path)\n",
    "        all_labels.extend(labels[:len(outputs)].tolist())\n",
    "        all_outputs.extend(outputs.tolist())\n",
    "    webrtc_results = metrics(all_labels, all_outputs)\n",
    "    print(f\"Threshold = {thr},  FAR = {webrtc_results['fars'][1]:.4f},  FRR = {webrtc_results['frrs'][1]:.4f}\")"
   ]
  },
  {
   "cell_type": "code",
   "execution_count": null,
   "metadata": {},
   "outputs": [],
   "source": []
  }
 ],
 "metadata": {
  "kernelspec": {
   "display_name": "Python 3 (ipykernel)",
   "language": "python",
   "name": "python3"
  },
  "language_info": {
   "codemirror_mode": {
    "name": "ipython",
    "version": 3
   },
   "file_extension": ".py",
   "mimetype": "text/x-python",
   "name": "python",
   "nbconvert_exporter": "python",
   "pygments_lexer": "ipython3",
   "version": "3.10.5"
  }
 },
 "nbformat": 4,
 "nbformat_minor": 4
}
